{
  "nbformat": 4,
  "nbformat_minor": 0,
  "metadata": {
    "kernelspec": {
      "display_name": "Python 3",
      "language": "python",
      "name": "python3"
    },
    "language_info": {
      "codemirror_mode": {
        "name": "ipython",
        "version": 3
      },
      "file_extension": ".py",
      "mimetype": "text/x-python",
      "name": "python",
      "nbconvert_exporter": "python",
      "pygments_lexer": "ipython3",
      "version": "3.7.3"
    },
    "colab": {
      "provenance": [],
      "toc_visible": true
    }
  },
  "cells": [
    {
      "cell_type": "markdown",
      "metadata": {
        "id": "view-in-github"
      },
      "source": [
        "<a href=\"https://colab.research.google.com/github/retico/cmepda_medphys/blob/master/L1_code/Lecture1_demo1_read_DICOM_file.ipynb\" target=\"_parent\"><img src=\"https://colab.research.google.com/assets/colab-badge.svg\" alt=\"Open In Colab\"/></a>"
      ]
    },
    {
      "cell_type": "markdown",
      "metadata": {
        "id": "IpQmEyx2WcFx"
      },
      "source": [
        "# Read and visualize a DICOM image"
      ]
    },
    {
      "cell_type": "code",
      "metadata": {
        "id": "jp6jnRTkNEi4"
      },
      "source": [
        "%matplotlib inline"
      ],
      "execution_count": null,
      "outputs": []
    },
    {
      "cell_type": "markdown",
      "metadata": {
        "id": "toauehZnNEi8"
      },
      "source": [
        "`%matplotlib inline`\n",
        "is a ‘magic functions’ which sets the backend of matplotlib to the 'inline' backend. It allows to display  the output of plotting commands inline within frontends like the Jupyter notebook, directly below the code cell that produced it. The resulting plots will then also be stored in the notebook document."
      ]
    },
    {
      "cell_type": "markdown",
      "metadata": {
        "id": "stFmDqShuwU2"
      },
      "source": [
        "## Reading the dataset from Google Drive\n",
        "\n",
        "\n",
        "Prior to this operation be sure to have added the [shared folder](https://drive.google.com/open?id=1YqK7ZkM-P2IrqfD7Pj-SCmjz-GWd_1-Y) to your Google Drive"
      ]
    },
    {
      "cell_type": "code",
      "metadata": {
        "id": "1rZTWcJbuvow"
      },
      "source": [
        "from google.colab import drive\n",
        "drive.mount('/content/drive')"
      ],
      "execution_count": null,
      "outputs": []
    },
    {
      "cell_type": "code",
      "metadata": {
        "id": "8qod2VgJvg19"
      },
      "source": [
        "!ls \"/content/drive/My Drive/CMEPDA_MedPhys_datasets\""
      ],
      "execution_count": null,
      "outputs": []
    },
    {
      "cell_type": "code",
      "metadata": {
        "id": "QNVzgUb3vwI2"
      },
      "source": [
        "DATASETS = \"/content/drive/My Drive/CMEPDA_MedPhys_datasets\""
      ],
      "execution_count": null,
      "outputs": []
    },
    {
      "cell_type": "markdown",
      "metadata": {
        "id": "879oU3WDNEi9"
      },
      "source": [
        "## Reading a DICOM file using the pydicom package\n",
        "\n",
        "This example illustrates how to use the pydicom package to open a DICOM file, print some dataset information (metadata), and show images using matplotlib.\n",
        "\n",
        "Find the documentation and the installation instructions at\n",
        "https://pydicom.github.io/pydicom/stable/\n",
        "\n",
        "You can create and work in an enviroment with python 3 and the numpy library, which is required to manipulate pixel data"
      ]
    },
    {
      "cell_type": "code",
      "metadata": {
        "id": "8E4wwQ4ov53f"
      },
      "source": [
        "!pip install pydicom"
      ],
      "execution_count": null,
      "outputs": []
    },
    {
      "cell_type": "code",
      "metadata": {
        "id": "YPDl7vRoNEi-"
      },
      "source": [
        "import os\n",
        "import pydicom\n",
        "import matplotlib.pyplot as plt"
      ],
      "execution_count": null,
      "outputs": []
    },
    {
      "cell_type": "code",
      "metadata": {
        "id": "dkW9KfhNNEi_"
      },
      "source": [
        "filename = os.path.join(DATASETS, \"IMAGES\", \"DICOM_Examples\", \"Brain_MRI\", \"IM67_1slice.dcm\")\n",
        "dataset = pydicom.dcmread(filename)"
      ],
      "execution_count": null,
      "outputs": []
    },
    {
      "cell_type": "markdown",
      "metadata": {
        "id": "9-EA5YByNEjB"
      },
      "source": [
        "The `dcmread` function returns a *FileDataset* object, which makes accessible the metadata contained in the DICOM header and the image as numpy array."
      ]
    },
    {
      "cell_type": "code",
      "metadata": {
        "id": "85V8cAcbNEjC"
      },
      "source": [
        "print(type(dataset))"
      ],
      "execution_count": null,
      "outputs": []
    },
    {
      "cell_type": "markdown",
      "source": [
        "to show the dataset content you can use print(dataset) or just type dataset:"
      ],
      "metadata": {
        "id": "fEbeiEbNp67-"
      }
    },
    {
      "cell_type": "code",
      "metadata": {
        "id": "mTYM301hNEjH"
      },
      "source": [
        "dataset"
      ],
      "execution_count": null,
      "outputs": []
    },
    {
      "cell_type": "markdown",
      "source": [
        "A dataset with pixel data should always contain group 0x0028 Image Pixel module elements, which are needed to properly interpret the encoded pixel data byte stream:"
      ],
      "metadata": {
        "id": "fwtsO4YUOpH4"
      }
    },
    {
      "cell_type": "code",
      "source": [
        "dataset.group_dataset(0x0028)"
      ],
      "metadata": {
        "id": "gD_GiKklOpmi"
      },
      "execution_count": null,
      "outputs": []
    },
    {
      "cell_type": "markdown",
      "source": [
        "To visualize just some values of interest:"
      ],
      "metadata": {
        "id": "eWtl67mEqA8L"
      }
    },
    {
      "cell_type": "code",
      "metadata": {
        "id": "PyScv8TQNEjI"
      },
      "source": [
        "print()\n",
        "print(\"Filename.........:\", filename)\n",
        "print(\"Storage type.....:\", dataset.SOPClassUID)\n",
        "print()\n",
        "\n",
        "pat_name = dataset.PatientName\n",
        "display_name = pat_name.family_name + \", \" + pat_name.given_name\n",
        "display_name = ','.join([pat_name.family_name, pat_name.given_name])\n",
        "print(\"Patient's name...:\", display_name)\n",
        "print(\"Patient id.......:\", dataset.PatientID)\n",
        "print(\"Modality.........:\", dataset.Modality)\n",
        "print(\"Study Date.......:\", dataset.StudyDate)\n",
        "\n",
        "if 'PixelData' in dataset:\n",
        "    rows = int(dataset.Rows)\n",
        "    cols = int(dataset.Columns)\n",
        "    print(\"Image size.......: {rows:d} x {cols:d}, {size:d} bytes\".format(\n",
        "        rows=rows, cols=cols, size=len(dataset.PixelData)))\n",
        "    if 'PixelSpacing' in dataset:\n",
        "        print(\"Pixel spacing....:\", dataset.PixelSpacing)\n"
      ],
      "execution_count": null,
      "outputs": []
    },
    {
      "cell_type": "markdown",
      "source": [
        "Use .get() if not sure the item exists, and want a default value if missing"
      ],
      "metadata": {
        "id": "XUs0FfesqEid"
      }
    },
    {
      "cell_type": "code",
      "metadata": {
        "id": "fQ39PA2RNEjK"
      },
      "source": [
        "print(\"Slice location...:\", dataset.get('SliceLocation', \"(missing)\"))"
      ],
      "execution_count": null,
      "outputs": []
    },
    {
      "cell_type": "markdown",
      "metadata": {
        "id": "vXmDXJp-NEjD"
      },
      "source": [
        "Images are NumPy n-dimentional arrays\n",
        "\n",
        " pydicom offers the pixel_array() method for converting the pixel data to a NumPy ndarray:"
      ]
    },
    {
      "cell_type": "code",
      "source": [
        "data_array = dataset.pixel_array"
      ],
      "metadata": {
        "id": "ROEiSJbfniFX"
      },
      "execution_count": null,
      "outputs": []
    },
    {
      "cell_type": "code",
      "metadata": {
        "id": "e6Ef-mpANEjE"
      },
      "source": [
        "print(type(data_array))"
      ],
      "execution_count": null,
      "outputs": []
    },
    {
      "cell_type": "markdown",
      "metadata": {
        "id": "xY1PeUkbXJzK"
      },
      "source": [
        "## Image visualization"
      ]
    },
    {
      "cell_type": "code",
      "metadata": {
        "id": "m1puIdE4NEjL"
      },
      "source": [
        "# plot the image using matplotlib\n",
        "plt.imshow(data_array, cmap=plt.cm.bone)\n",
        "plt.show()"
      ],
      "execution_count": null,
      "outputs": []
    }
  ]
}