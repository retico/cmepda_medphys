{
  "nbformat": 4,
  "nbformat_minor": 0,
  "metadata": {
    "kernelspec": {
      "display_name": "Python 3",
      "language": "python",
      "name": "python3"
    },
    "language_info": {
      "codemirror_mode": {
        "name": "ipython",
        "version": 3
      },
      "file_extension": ".py",
      "mimetype": "text/x-python",
      "name": "python",
      "nbconvert_exporter": "python",
      "pygments_lexer": "ipython3",
      "version": "3.7.3"
    },
    "colab": {
      "provenance": [],
      "toc_visible": true
    }
  },
  "cells": [
    {
      "cell_type": "markdown",
      "metadata": {
        "id": "view-in-github"
      },
      "source": [
        "<a href=\"https://colab.research.google.com/github/retico/cmepda_medphys/blob/master/L1_code/Lecture1_demo2_read_DICOM_dir.ipynb\" target=\"_parent\"><img src=\"https://colab.research.google.com/assets/colab-badge.svg\" alt=\"Open In Colab\"/></a>"
      ]
    },
    {
      "cell_type": "markdown",
      "source": [
        "# Read a DICOMDIR and display the image\n",
        "\n",
        "DICOMDIR is a special DICOM file usually found in the root folder of the CD/DVD media with DICOM studies. This file includes paths to the DICOM files found on the media."
      ],
      "metadata": {
        "id": "Ww2IkHAg71sM"
      }
    },
    {
      "cell_type": "code",
      "metadata": {
        "id": "eSJoZrFAxGWM"
      },
      "source": [
        "%matplotlib inline"
      ],
      "execution_count": null,
      "outputs": []
    },
    {
      "cell_type": "markdown",
      "metadata": {
        "id": "stFmDqShuwU2"
      },
      "source": [
        "## Reading the dataset from Google Drive\n",
        "Prior to this operation be sure to have added the shared folder to your Google Drive"
      ]
    },
    {
      "cell_type": "code",
      "metadata": {
        "id": "1rZTWcJbuvow"
      },
      "source": [
        "from google.colab import drive\n",
        "drive.mount('/content/drive')"
      ],
      "execution_count": null,
      "outputs": []
    },
    {
      "cell_type": "code",
      "metadata": {
        "id": "u4HgJF9jEsYh"
      },
      "source": [
        "!ls \"/content/drive/My Drive/CMEPDA_MedPhys_datasets\""
      ],
      "execution_count": null,
      "outputs": []
    },
    {
      "cell_type": "code",
      "metadata": {
        "id": "8qod2VgJvg19"
      },
      "source": [
        "!ls \"/content/drive/My Drive/CMEPDA_MedPhys_datasets/IMAGES/DICOM_Examples\""
      ],
      "execution_count": null,
      "outputs": []
    },
    {
      "cell_type": "code",
      "metadata": {
        "id": "bH0mJAHkTUEp"
      },
      "source": [
        "!cp \"/content/drive/My Drive/CMEPDA_MedPhys_datasets/IMAGES/DICOM_Examples/Lung_CT_cd2.zip\" /content/"
      ],
      "execution_count": null,
      "outputs": []
    },
    {
      "cell_type": "code",
      "metadata": {
        "id": "E8vZrlAHUDBB"
      },
      "source": [
        "!ls /content/"
      ],
      "execution_count": null,
      "outputs": []
    },
    {
      "cell_type": "code",
      "metadata": {
        "id": "bkxrK93wUKEp"
      },
      "source": [
        "!unzip /content/Lung_CT_cd2.zip"
      ],
      "execution_count": null,
      "outputs": []
    },
    {
      "cell_type": "code",
      "metadata": {
        "id": "yUxvkJd2UT-U"
      },
      "source": [
        "!ls /content/Lung_CT_cd2/"
      ],
      "execution_count": null,
      "outputs": []
    },
    {
      "cell_type": "markdown",
      "metadata": {
        "id": "U0IFqV7mxGWW"
      },
      "source": [
        "## Reading a DICOMDIR dataset using the pydicom package\n",
        "\n",
        "This example illustrates how to use the pydicom package to manage a DICOMDIR dataset,\n",
        "print some dataset information (metadata), and view the images on different planes using matplotlib.\n",
        "\n",
        "The pydicom [FileSet](https://pydicom.github.io/pydicom/stable/reference/generated/pydicom.fileset.FileSet.html#pydicom.fileset.FileSet)\n",
        "and [dcmread](https://pydicom.github.io/pydicom/dev/reference/generated/pydicom.filereader.dcmread.html) will be used"
      ]
    },
    {
      "cell_type": "code",
      "metadata": {
        "id": "aLamGT38x8tD"
      },
      "source": [
        "!pip install pydicom"
      ],
      "execution_count": null,
      "outputs": []
    },
    {
      "cell_type": "code",
      "source": [
        "import os\n",
        "from pydicom import dcmread\n",
        "from pydicom.fileset import FileSet\n",
        "import numpy as np"
      ],
      "metadata": {
        "id": "XBxS4uFU0Fag"
      },
      "execution_count": null,
      "outputs": []
    },
    {
      "cell_type": "code",
      "metadata": {
        "id": "QNVzgUb3vwI2"
      },
      "source": [
        "DATASETS = \"/content/Lung_CT_cd2\"\n",
        "filename = os.path.join(DATASETS, \"dicomdir\")\n",
        "data_dir = os.path.join(DATASETS, \"12031814\")"
      ],
      "execution_count": null,
      "outputs": []
    },
    {
      "cell_type": "code",
      "source": [
        "fs = FileSet(filename)"
      ],
      "metadata": {
        "id": "_lic6BCv0FIF"
      },
      "execution_count": null,
      "outputs": []
    },
    {
      "cell_type": "code",
      "source": [
        "print(fs)"
      ],
      "metadata": {
        "id": "i-kK0hWy07mN"
      },
      "execution_count": null,
      "outputs": []
    },
    {
      "cell_type": "code",
      "source": [
        "# List all files in the directory\n",
        "#dicom_files = [os.path.join(data_dir, f) for f in os.listdir(data_dir) if f.endswith(\".dcm\")]\n",
        "dicom_files = [os.path.join(data_dir, f) for f in os.listdir(data_dir)]\n",
        "#dicom_files\n",
        "len(dicom_files)"
      ],
      "metadata": {
        "id": "ESGGgj0cqFoe"
      },
      "execution_count": null,
      "outputs": []
    },
    {
      "cell_type": "code",
      "source": [
        "# Target SeriesNumber\n",
        "target_series_number = 5"
      ],
      "metadata": {
        "id": "SjbFvU62rpMe"
      },
      "execution_count": null,
      "outputs": []
    },
    {
      "cell_type": "code",
      "source": [
        "# Filter files by SeriesNumber\n",
        "filtered_files = []\n",
        "for file in dicom_files:\n",
        "    ds = dcmread(file)\n",
        "    if ds.SeriesNumber == target_series_number:\n",
        "        filtered_files.append(ds)\n",
        "\n",
        "if not filtered_files:\n",
        "    raise ValueError(f\"No files found for SeriesNumber: {target_series_number}\")"
      ],
      "metadata": {
        "id": "8baKls76rujL"
      },
      "execution_count": null,
      "outputs": []
    },
    {
      "cell_type": "code",
      "source": [
        "# Sort files by InstanceNumber\n",
        "filtered_files.sort(key=lambda ds: ds.InstanceNumber)"
      ],
      "metadata": {
        "id": "NV29BbDVryaF"
      },
      "execution_count": null,
      "outputs": []
    },
    {
      "cell_type": "code",
      "source": [
        "filtered_files[0].SeriesNumber, filtered_files[0].SeriesDescription, len(filtered_files)"
      ],
      "metadata": {
        "id": "oTMgKWjNtbzZ"
      },
      "execution_count": null,
      "outputs": []
    },
    {
      "cell_type": "code",
      "source": [
        "volume = np.stack([ds.pixel_array for ds in filtered_files])\n",
        "\n",
        "print(\"Volume shape:\", volume.shape)  # Example: (number_of_slices, height, width)"
      ],
      "metadata": {
        "id": "jJAZGjpar4rh"
      },
      "execution_count": null,
      "outputs": []
    },
    {
      "cell_type": "code",
      "source": [
        "# Apply rescaling if necessary\n",
        "if hasattr(filtered_files[0], \"RescaleSlope\") and hasattr(filtered_files[0], \"RescaleIntercept\"):\n",
        "    slope = filtered_files[0].RescaleSlope\n",
        "    intercept = filtered_files[0].RescaleIntercept\n",
        "    volume = volume * slope + intercept\n",
        "\n",
        "print(f\"Slope = {slope}, Intercept = {intercept} and Rescaled volume shape = {volume.shape}\")"
      ],
      "metadata": {
        "id": "l1Qw2DBCsAZ0"
      },
      "execution_count": null,
      "outputs": []
    },
    {
      "cell_type": "markdown",
      "source": [
        "## Plot  axial, sagittal and colonal views"
      ],
      "metadata": {
        "id": "HKWh6VLlu_YQ"
      }
    },
    {
      "cell_type": "code",
      "source": [
        "import matplotlib.pyplot as plt"
      ],
      "metadata": {
        "id": "lZM_JMiKwJlD"
      },
      "execution_count": null,
      "outputs": []
    },
    {
      "cell_type": "markdown",
      "source": [],
      "metadata": {
        "id": "lqBLk-GtxY65"
      }
    },
    {
      "cell_type": "code",
      "source": [
        "x, y, z = *filtered_files[0].PixelSpacing, filtered_files[0].SliceThickness\n",
        "x,y,z"
      ],
      "metadata": {
        "id": "vMGw9OPmzl-f"
      },
      "execution_count": null,
      "outputs": []
    },
    {
      "cell_type": "code",
      "source": [
        "aspect_ratio = {\n",
        "    'axial': y/x,\n",
        "    'sagittal': z/y,\n",
        "    'coronal': z/x\n",
        "}"
      ],
      "metadata": {
        "id": "DgtagMfgzi36"
      },
      "execution_count": null,
      "outputs": []
    },
    {
      "cell_type": "code",
      "source": [
        "# plot 3 orthogonal slices\n",
        "a1 = plt.subplot(1, 3, 1)\n",
        "plt.imshow(volume[volume.shape[0]//2,:, :], cmap='gray')\n",
        "a1.set_aspect(aspect_ratio['axial'])\n",
        "a1.axis('off')\n",
        "a1.set_title('Axial')\n",
        "\n",
        "a2 = plt.subplot(1, 3, 2)\n",
        "ct = volume[ :, :, volume.shape[2]//2].T\n",
        "ct = np.flipud(ct)\n",
        "ct = np.rot90(ct)\n",
        "plt.imshow(ct, cmap='gray')\n",
        "a2.set_aspect(aspect_ratio['sagittal'])\n",
        "a2.axis('off')\n",
        "a2.set_title('Sagittal')\n",
        "\n",
        "\n",
        "a3 = plt.subplot(1, 3, 3)\n",
        "ct = volume[:, volume.shape[1]//2 , :]\n",
        "ct = np.flipud(ct)\n",
        "#ct = np.rot90(ct)\n",
        "plt.imshow(ct, cmap='gray')\n",
        "a3.set_aspect(aspect_ratio['coronal'])\n",
        "a3.axis('off')\n",
        "a3.set_title('Coronal');\n"
      ],
      "metadata": {
        "id": "ViaVd96szfp4"
      },
      "execution_count": null,
      "outputs": []
    }
  ]
}