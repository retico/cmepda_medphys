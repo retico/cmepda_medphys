{
 "cells": [
  {
   "cell_type": "markdown",
   "id": "ab13bcac",
   "metadata": {},
   "source": [
    "# How to call MATLAB from Python "
   ]
  },
  {
   "cell_type": "markdown",
   "id": "7cdff180",
   "metadata": {},
   "source": [
    "Let us suppose that we have already developed a MATLAB function to do some image processing (some_processing.m) and we want to use it in an analysis pipeline we are setting up in Python. "
   ]
  },
  {
   "cell_type": "code",
   "execution_count": null,
   "id": "41e2d667",
   "metadata": {},
   "outputs": [],
   "source": [
    "import numpy as np"
   ]
  },
  {
   "cell_type": "markdown",
   "id": "b065d797",
   "metadata": {},
   "source": [
    "Start the MATLAB engine  "
   ]
  },
  {
   "cell_type": "code",
   "execution_count": null,
   "id": "6b3fb096-e20a-42bc-a42f-50367f89db51",
   "metadata": {},
   "outputs": [],
   "source": [
    "import sys\n",
    "sys.version"
   ]
  },
  {
   "cell_type": "markdown",
   "id": "98002227-76dd-463f-aa65-beb39bea74e6",
   "metadata": {},
   "source": [
    "If you have not installed the matlabengine API in your python virtual environment, you can install it from https://pypi.org/project/matlabengine with the command:\n",
    "\n",
    "pip install matlabengine"
   ]
  },
  {
   "cell_type": "markdown",
   "id": "0fc374a9-a4a3-4862-a8ee-dca40ea127ba",
   "metadata": {},
   "source": [
    "You can now import the matlab.engine and start a matlab session"
   ]
  },
  {
   "cell_type": "code",
   "execution_count": null,
   "id": "67a4fb05",
   "metadata": {},
   "outputs": [],
   "source": [
    "import matlab.engine\n",
    "eng = matlab.engine.start_matlab()\n",
    "print(eng)"
   ]
  },
  {
   "cell_type": "markdown",
   "id": "a7cbce13",
   "metadata": {},
   "source": [
    "We can define MATLAB objects and apply MATLAB functions to them ...  "
   ]
  },
  {
   "cell_type": "code",
   "execution_count": null,
   "id": "b0824df2",
   "metadata": {},
   "outputs": [],
   "source": [
    "M1 = eng.ones(3)"
   ]
  },
  {
   "cell_type": "code",
   "execution_count": null,
   "id": "c26f4033",
   "metadata": {},
   "outputs": [],
   "source": [
    "M1"
   ]
  },
  {
   "cell_type": "code",
   "execution_count": null,
   "id": "7ca03f8b",
   "metadata": {},
   "outputs": [],
   "source": [
    "eng.help('some_matlab_processing')"
   ]
  },
  {
   "cell_type": "code",
   "execution_count": null,
   "id": "72da021b",
   "metadata": {},
   "outputs": [],
   "source": [
    "A, B = eng.some_matlab_processing(M1, nargout=2)"
   ]
  },
  {
   "cell_type": "code",
   "execution_count": null,
   "id": "77799648",
   "metadata": {},
   "outputs": [],
   "source": [
    "A"
   ]
  },
  {
   "cell_type": "code",
   "execution_count": null,
   "id": "69c41497",
   "metadata": {
    "scrolled": true
   },
   "outputs": [],
   "source": [
    "print(A)"
   ]
  },
  {
   "cell_type": "code",
   "execution_count": null,
   "id": "458b454d",
   "metadata": {},
   "outputs": [],
   "source": [
    "print(B)"
   ]
  },
  {
   "cell_type": "markdown",
   "id": "aa2e50cb",
   "metadata": {},
   "source": [
    "... then we can convert the matlab objects provided as outputs into numpy arrays"
   ]
  },
  {
   "cell_type": "code",
   "execution_count": null,
   "id": "4369aa39",
   "metadata": {},
   "outputs": [],
   "source": [
    "A = np.asarray(A)\n",
    "B = np.asarray(B)"
   ]
  },
  {
   "cell_type": "code",
   "execution_count": null,
   "id": "7ab9a1b8",
   "metadata": {},
   "outputs": [],
   "source": [
    "A, B"
   ]
  },
  {
   "cell_type": "markdown",
   "id": "e61b05c4",
   "metadata": {},
   "source": [
    "We can also directly input np arrays to matlab functions. The conversion to a suitable matlab format will be automatically done"
   ]
  },
  {
   "cell_type": "code",
   "execution_count": null,
   "id": "81c10971",
   "metadata": {},
   "outputs": [],
   "source": [
    "Im1 = np.array([[1.0, 0.0, 0.0], [0.0, 1.0, 2.0]], dtype=\"uint8\")"
   ]
  },
  {
   "cell_type": "code",
   "execution_count": null,
   "id": "cd49848a",
   "metadata": {},
   "outputs": [],
   "source": [
    "A, B = eng.some_matlab_processing(Im1, nargout=2)"
   ]
  },
  {
   "cell_type": "code",
   "execution_count": null,
   "id": "e0e0d004",
   "metadata": {},
   "outputs": [],
   "source": [
    "A, B"
   ]
  },
  {
   "cell_type": "code",
   "execution_count": null,
   "id": "306bff3c",
   "metadata": {},
   "outputs": [],
   "source": [
    "eng.quit()"
   ]
  },
  {
   "cell_type": "code",
   "execution_count": null,
   "id": "3231c258-2515-4ac3-8acb-4c06a4ffa5c9",
   "metadata": {},
   "outputs": [],
   "source": []
  }
 ],
 "metadata": {
  "kernelspec": {
   "display_name": "Python 3 (ipykernel)",
   "language": "python",
   "name": "python3"
  },
  "language_info": {
   "codemirror_mode": {
    "name": "ipython",
    "version": 3
   },
   "file_extension": ".py",
   "mimetype": "text/x-python",
   "name": "python",
   "nbconvert_exporter": "python",
   "pygments_lexer": "ipython3",
   "version": "3.9.6"
  }
 },
 "nbformat": 4,
 "nbformat_minor": 5
}
