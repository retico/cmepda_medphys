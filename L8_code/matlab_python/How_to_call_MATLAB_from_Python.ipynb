{
 "cells": [
  {
   "cell_type": "markdown",
   "id": "ab13bcac",
   "metadata": {},
   "source": [
    "# How to call MATLAB from Python "
   ]
  },
  {
   "cell_type": "markdown",
   "id": "7cdff180",
   "metadata": {},
   "source": [
    "Let us suppose that we have already developed a MATLAB function to do some image processing (some_processing.m) and we want to use it in an analysis pipeline we are setting up in Python. "
   ]
  },
  {
   "cell_type": "code",
   "execution_count": 1,
   "id": "41e2d667",
   "metadata": {},
   "outputs": [],
   "source": [
    "import numpy as np"
   ]
  },
  {
   "cell_type": "markdown",
   "id": "b065d797",
   "metadata": {},
   "source": [
    "Start the MATLAB engine  "
   ]
  },
  {
   "cell_type": "code",
   "execution_count": 2,
   "id": "fantastic-transparency",
   "metadata": {},
   "outputs": [
    {
     "data": {
      "text/plain": [
       "'3.11.7 (v3.11.7:fa7a6f2303, Dec  4 2023, 15:22:56) [Clang 13.0.0 (clang-1300.0.29.30)]'"
      ]
     },
     "execution_count": 2,
     "metadata": {},
     "output_type": "execute_result"
    }
   ],
   "source": [
    "import sys\n",
    "sys.version"
   ]
  },
  {
   "cell_type": "code",
   "execution_count": 4,
   "id": "active-client",
   "metadata": {},
   "outputs": [],
   "source": [
    "import matlab.engine"
   ]
  },
  {
   "cell_type": "code",
   "execution_count": 5,
   "id": "67a4fb05",
   "metadata": {},
   "outputs": [
    {
     "name": "stdout",
     "output_type": "stream",
     "text": [
      "<matlab.engine.matlabengine.MatlabEngine object at 0x112a79f10>\n"
     ]
    }
   ],
   "source": [
    "import matlab.engine\n",
    "eng = matlab.engine.start_matlab()\n",
    "print(eng)"
   ]
  },
  {
   "cell_type": "markdown",
   "id": "a7cbce13",
   "metadata": {},
   "source": [
    "We can define MATLAB objects and apply MATLAB functions to them ...  "
   ]
  },
  {
   "cell_type": "code",
   "execution_count": 6,
   "id": "b0824df2",
   "metadata": {},
   "outputs": [],
   "source": [
    "M1 = eng.ones(3)"
   ]
  },
  {
   "cell_type": "code",
   "execution_count": 7,
   "id": "c26f4033",
   "metadata": {},
   "outputs": [
    {
     "data": {
      "text/plain": [
       "matlab.double([[1.0,1.0,1.0],[1.0,1.0,1.0],[1.0,1.0,1.0]])"
      ]
     },
     "execution_count": 7,
     "metadata": {},
     "output_type": "execute_result"
    }
   ],
   "source": [
    "M1"
   ]
  },
  {
   "cell_type": "code",
   "execution_count": 8,
   "id": "7ca03f8b",
   "metadata": {},
   "outputs": [
    {
     "data": {
      "text/plain": [
       "'  some_matlab_processing perfome a sample processing of a MATLAB array.\\n  Taking the C array as input, it returns two output arrays: A and B\\n  with the same dimension as C.\\n'"
      ]
     },
     "execution_count": 8,
     "metadata": {},
     "output_type": "execute_result"
    }
   ],
   "source": [
    "eng.help('some_matlab_processing')"
   ]
  },
  {
   "cell_type": "code",
   "execution_count": 9,
   "id": "72da021b",
   "metadata": {},
   "outputs": [],
   "source": [
    "A, B = eng.some_matlab_processing(M1, nargout=2)"
   ]
  },
  {
   "cell_type": "code",
   "execution_count": 10,
   "id": "77799648",
   "metadata": {},
   "outputs": [
    {
     "data": {
      "text/plain": [
       "matlab.double([[1.0,1.0,1.0],[1.0,1.0,1.0],[1.0,1.0,1.0]])"
      ]
     },
     "execution_count": 10,
     "metadata": {},
     "output_type": "execute_result"
    }
   ],
   "source": [
    "A"
   ]
  },
  {
   "cell_type": "code",
   "execution_count": 11,
   "id": "69c41497",
   "metadata": {},
   "outputs": [
    {
     "name": "stdout",
     "output_type": "stream",
     "text": [
      "[[1.0,1.0,1.0],[1.0,1.0,1.0],[1.0,1.0,1.0]]\n"
     ]
    }
   ],
   "source": [
    "print(A)"
   ]
  },
  {
   "cell_type": "code",
   "execution_count": 12,
   "id": "458b454d",
   "metadata": {},
   "outputs": [
    {
     "name": "stdout",
     "output_type": "stream",
     "text": [
      "[[2.0,2.0,2.0],[2.0,2.0,2.0],[2.0,2.0,2.0]]\n"
     ]
    }
   ],
   "source": [
    "print(B)"
   ]
  },
  {
   "cell_type": "markdown",
   "id": "aa2e50cb",
   "metadata": {},
   "source": [
    "... then we can convert the matlab objects provided as outputs into numpy arrays"
   ]
  },
  {
   "cell_type": "code",
   "execution_count": 13,
   "id": "4369aa39",
   "metadata": {},
   "outputs": [],
   "source": [
    "A = np.asarray(A)\n",
    "B = np.asarray(B)"
   ]
  },
  {
   "cell_type": "code",
   "execution_count": 14,
   "id": "7ab9a1b8",
   "metadata": {},
   "outputs": [
    {
     "data": {
      "text/plain": [
       "(array([[1., 1., 1.],\n",
       "        [1., 1., 1.],\n",
       "        [1., 1., 1.]]),\n",
       " array([[2., 2., 2.],\n",
       "        [2., 2., 2.],\n",
       "        [2., 2., 2.]]))"
      ]
     },
     "execution_count": 14,
     "metadata": {},
     "output_type": "execute_result"
    }
   ],
   "source": [
    "A, B"
   ]
  },
  {
   "cell_type": "markdown",
   "id": "e61b05c4",
   "metadata": {},
   "source": [
    "We can also directly input np arrays to matlab functions. The conversion to a suitable matlab format will be automatically done"
   ]
  },
  {
   "cell_type": "code",
   "execution_count": 15,
   "id": "81c10971",
   "metadata": {},
   "outputs": [],
   "source": [
    "Im1 = np.array([[1.0, 0.0, 0.0], [0.0, 1.0, 2.0]], dtype=\"uint8\")"
   ]
  },
  {
   "cell_type": "code",
   "execution_count": 16,
   "id": "cd49848a",
   "metadata": {},
   "outputs": [],
   "source": [
    "A, B = eng.some_matlab_processing(Im1, nargout=2)"
   ]
  },
  {
   "cell_type": "code",
   "execution_count": 17,
   "id": "e0e0d004",
   "metadata": {},
   "outputs": [
    {
     "data": {
      "text/plain": [
       "(matlab.uint8([[1,0,0],[0,1,2]]), matlab.uint8([[2,0,0],[0,2,4]]))"
      ]
     },
     "execution_count": 17,
     "metadata": {},
     "output_type": "execute_result"
    }
   ],
   "source": [
    "A, B"
   ]
  },
  {
   "cell_type": "code",
   "execution_count": 18,
   "id": "306bff3c",
   "metadata": {},
   "outputs": [],
   "source": [
    "eng.quit()"
   ]
  }
 ],
 "metadata": {
  "kernelspec": {
   "display_name": "mp_venv",
   "language": "python",
   "name": "mp_venv"
  },
  "language_info": {
   "codemirror_mode": {
    "name": "ipython",
    "version": 3
   },
   "file_extension": ".py",
   "mimetype": "text/x-python",
   "name": "python",
   "nbconvert_exporter": "python",
   "pygments_lexer": "ipython3",
   "version": "3.11.7"
  }
 },
 "nbformat": 4,
 "nbformat_minor": 5
}
