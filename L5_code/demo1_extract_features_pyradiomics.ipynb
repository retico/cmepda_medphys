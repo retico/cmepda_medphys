{
  "cells": [
    {
      "cell_type": "markdown",
      "metadata": {
        "id": "view-in-github"
      },
      "source": [
        "<a href=\"https://colab.research.google.com/github/retico/cmepda_medphys/blob/master/L5_code/Lecture5_demo1_extract_features_pyradiomics.ipynb\" target=\"_parent\"><img src=\"https://colab.research.google.com/assets/colab-badge.svg\" alt=\"Open In Colab\"/></a>"
      ]
    },
    {
      "cell_type": "markdown",
      "metadata": {
        "id": "t9OTD7yqOK_a"
      },
      "source": [
        "# Extracting features from a segmented lesion with PyRadiomics"
      ]
    },
    {
      "cell_type": "markdown",
      "metadata": {
        "id": "Toxlyzh9-_A9"
      },
      "source": [
        "This demo shows how to extract intensity and shape based features form segmented masses in mammography using the [PyRadiomics](https://www.radiomics.io/pyradiomics.html) python package.\n",
        "A number of mammography images and mass segmentatation masks are available in the [shared folder on Drive](https://drive.google.com/drive/folders/1YqK7ZkM-P2IrqfD7Pj-SCmjz-GWd_1-Y )\n",
        "\n",
        "in IMAGES/Mammography_masses/\n"
      ]
    },
    {
      "cell_type": "markdown",
      "metadata": {
        "id": "0tPFBhVmNFzF"
      },
      "source": [
        "# Reading data from Google Drive"
      ]
    },
    {
      "cell_type": "code",
      "execution_count": null,
      "metadata": {
        "id": "mTyqkmXu-rhd"
      },
      "outputs": [],
      "source": [
        "from google.colab import drive\n",
        "drive.mount('/content/gdrive')"
      ]
    },
    {
      "cell_type": "code",
      "execution_count": null,
      "metadata": {
        "id": "3XNOMaM2MEeT"
      },
      "outputs": [],
      "source": [
        "!unzip -q /content/gdrive/MyDrive/CMEPDA_MedPhys_datasets/IMAGES/Mammography_masses/small_sample_Im_segmented_ref.zip -d /content/\n",
        "\n",
        "dataset_path = \"/content/small_sample_Im_segmented_ref\""
      ]
    },
    {
      "cell_type": "code",
      "execution_count": null,
      "metadata": {
        "id": "-JmQNjmNMcHg"
      },
      "outputs": [],
      "source": [
        "!ls /content/small_sample_Im_segmented_ref"
      ]
    },
    {
      "cell_type": "markdown",
      "metadata": {
        "id": "5FHURHoJNmA0"
      },
      "source": [
        "# Overview of the dataset.\n",
        "We use [Pillow](https://pypi.org/project/Pillow/), a Python Imaging Library which adds image processing capabilities to the Python interpreter"
      ]
    },
    {
      "cell_type": "code",
      "execution_count": null,
      "metadata": {
        "id": "OWcXgBnaNnT-"
      },
      "outputs": [],
      "source": [
        "import os\n",
        "import PIL"
      ]
    },
    {
      "cell_type": "code",
      "execution_count": null,
      "metadata": {
        "id": "ciTxIwLvNr2P"
      },
      "outputs": [],
      "source": [
        "PIL.Image.open(os.path.join(dataset_path, \"0008p1_3_1_2_resized.pgm\"))"
      ]
    },
    {
      "cell_type": "code",
      "execution_count": null,
      "metadata": {
        "id": "rj4vYBWjN5mI"
      },
      "outputs": [],
      "source": [
        "PIL.Image.open(os.path.join(dataset_path, \"0008p1_3_1_2_mass_mask.pgm\"))"
      ]
    },
    {
      "cell_type": "markdown",
      "metadata": {
        "id": "7l49tQN6SKgx"
      },
      "source": [
        "# Install PyRadiomics"
      ]
    },
    {
      "cell_type": "code",
      "execution_count": null,
      "metadata": {
        "id": "3SYYqgG0RxZ6"
      },
      "outputs": [],
      "source": [
        "pip list"
      ]
    },
    {
      "cell_type": "code",
      "execution_count": null,
      "metadata": {
        "id": "rfNm5351Scbq"
      },
      "outputs": [],
      "source": [
        "!pip install pyradiomics"
      ]
    },
    {
      "cell_type": "markdown",
      "metadata": {
        "id": "XQ056OloS-l0"
      },
      "source": [
        "# Use PyRadiomics for feature extraction"
      ]
    },
    {
      "cell_type": "code",
      "execution_count": null,
      "metadata": {
        "id": "TFPoMLZQSO8h"
      },
      "outputs": [],
      "source": [
        "import os\n",
        "import numpy as np\n",
        "import six\n",
        "from radiomics import featureextractor, getFeatureClasses\n",
        "import radiomics"
      ]
    },
    {
      "cell_type": "markdown",
      "metadata": {
        "id": "urCbvXPKTpce"
      },
      "source": [
        "The feature extractor handles preprocessing, and then calls the needed featureclasses to calculate the features."
      ]
    },
    {
      "cell_type": "code",
      "execution_count": null,
      "metadata": {
        "id": "zhDJVlI8W3TS"
      },
      "outputs": [],
      "source": [
        "featureClasses = getFeatureClasses()"
      ]
    },
    {
      "cell_type": "code",
      "execution_count": null,
      "metadata": {
        "id": "6oRxL7_jCnRi"
      },
      "outputs": [],
      "source": [
        "featureClasses"
      ]
    },
    {
      "cell_type": "markdown",
      "metadata": {
        "id": "pBSDu93V-_n-"
      },
      "source": [
        "We have to initialize the feature extractor and we can customize extraction settings. We will use a configuration file: Params_tol_0_0001.yaml"
      ]
    },
    {
      "cell_type": "code",
      "source": [
        "!ls /content/gdrive/MyDrive/Colab\\ Notebooks/CMEPDA_MedPhys/Params_tol_0_0001.yaml"
      ],
      "metadata": {
        "id": "Q3pb-8lr6rSu"
      },
      "execution_count": null,
      "outputs": []
    },
    {
      "cell_type": "code",
      "source": [
        "!!cp /content/gdrive/MyDrive/Colab\\ Notebooks/CMEPDA_MedPhys/Params_tol_0_0001.yaml /content/."
      ],
      "metadata": {
        "id": "jrgCaqtn-wDq"
      },
      "execution_count": null,
      "outputs": []
    },
    {
      "cell_type": "code",
      "source": [
        "!head /content/Params_tol_0_0001.yaml"
      ],
      "metadata": {
        "id": "XSyJIN8x-AQq"
      },
      "execution_count": null,
      "outputs": []
    },
    {
      "cell_type": "code",
      "source": [
        "paramPath = 'Params_tol_0_0001.yaml'"
      ],
      "metadata": {
        "id": "UR8Ind-Y59V6"
      },
      "execution_count": null,
      "outputs": []
    },
    {
      "cell_type": "code",
      "source": [
        "extractor = featureextractor.RadiomicsFeatureExtractor(paramPath)\n",
        "verbose = True\n",
        "if verbose:\n",
        "    print('Extraction parameters:\\n\\t', extractor.settings)\n",
        "    print('Enabled filters:\\n\\t', extractor.enabledImagetypes)\n",
        "    print('Enabled features:\\n\\t', extractor.enabledFeatures)"
      ],
      "metadata": {
        "id": "8VWAzXAG6QM1"
      },
      "execution_count": null,
      "outputs": []
    },
    {
      "cell_type": "markdown",
      "metadata": {
        "id": "jj_qgyndDw8Q"
      },
      "source": [
        "Input images: by default, and according to our settings, only the 'original' (no filtered) images are enabled. Optionally different image types can be enabled, e.g."
      ]
    },
    {
      "cell_type": "code",
      "execution_count": null,
      "metadata": {
        "id": "4_Yq6G3RE5KE"
      },
      "outputs": [],
      "source": [
        "extractor.enableImageTypeByName('Wavelet')"
      ]
    },
    {
      "cell_type": "markdown",
      "metadata": {
        "id": "pRClgZD1E-1c"
      },
      "source": [
        "To check the enabled input images"
      ]
    },
    {
      "cell_type": "code",
      "execution_count": null,
      "metadata": {
        "id": "iFAOB6wcT6g0"
      },
      "outputs": [],
      "source": [
        "for imageType in extractor.enabledImagetypes.keys():\n",
        "    print('\\t' + imageType)"
      ]
    },
    {
      "cell_type": "markdown",
      "metadata": {
        "id": "z-ovlW4UFKsJ"
      },
      "source": [
        "To disable all feature classes"
      ]
    },
    {
      "cell_type": "code",
      "execution_count": null,
      "metadata": {
        "id": "oIPAOPQBFP2v"
      },
      "outputs": [],
      "source": [
        "extractor.disableAllFeatures()"
      ]
    },
    {
      "cell_type": "markdown",
      "metadata": {
        "id": "sWIzkzewFRVu"
      },
      "source": [
        "To enable all features in firstorder"
      ]
    },
    {
      "cell_type": "code",
      "execution_count": null,
      "metadata": {
        "id": "Mhva6yPTFXgY"
      },
      "outputs": [],
      "source": [
        "extractor.enableFeatureClassByName('firstorder')"
      ]
    },
    {
      "cell_type": "markdown",
      "metadata": {
        "id": "32YK1_u0FZip"
      },
      "source": [
        "Alternatively: only enable 'Mean' and 'Skewness' features in firstorder"
      ]
    },
    {
      "cell_type": "code",
      "execution_count": null,
      "metadata": {
        "id": "UPk9wrPPUAxZ"
      },
      "outputs": [],
      "source": [
        "extractor.enableFeaturesByName(firstorder=['Mean', 'Skewness'])"
      ]
    },
    {
      "cell_type": "code",
      "execution_count": null,
      "metadata": {
        "id": "C3ng9GHaVJmC"
      },
      "outputs": [],
      "source": [
        "extractor.enabledFeatures"
      ]
    },
    {
      "cell_type": "markdown",
      "metadata": {
        "id": "aH-9NAWHFyAy"
      },
      "source": [
        "We can get the docstrings of the active features"
      ]
    },
    {
      "cell_type": "code",
      "execution_count": null,
      "metadata": {
        "id": "snoGTeM0UF0U"
      },
      "outputs": [],
      "source": [
        "print('Active features:')\n",
        "for cls, features in six.iteritems(extractor.enabledFeatures):\n",
        "  if len(features) == 0:\n",
        "    features = [f for f, deprecated in six.iteritems(featureClasses[cls].getFeatureNames()) if not deprecated]\n",
        "  for f in features:\n",
        "    print(f)\n",
        "    print(getattr(featureClasses[cls], 'get%sFeatureValue' % f).__doc__)"
      ]
    },
    {
      "cell_type": "markdown",
      "metadata": {
        "id": "UbEpzIvoXcye"
      },
      "source": [
        "# Reading the images in memory"
      ]
    },
    {
      "cell_type": "markdown",
      "metadata": {
        "id": "Bks9RqBm12nM"
      },
      "source": [
        "PyRadiomics accept directly NIfTi file ('*.nii.gz') or  [SimpleITK](https://simpleitk.org/) objects in input. It needs both the image and the corresponding mask"
      ]
    },
    {
      "cell_type": "code",
      "execution_count": null,
      "metadata": {
        "id": "afMSoC_1r-hz"
      },
      "outputs": [],
      "source": [
        "import SimpleITK as sitk"
      ]
    },
    {
      "cell_type": "markdown",
      "metadata": {
        "id": "2vXila-C2DU-"
      },
      "source": [
        "Our images are \".pgm\" files. This format is not supported by SimpleITK"
      ]
    },
    {
      "cell_type": "code",
      "execution_count": null,
      "metadata": {
        "id": "n2LcsJwNsfBa"
      },
      "outputs": [],
      "source": [
        "os.path.join(dataset_path, \"0008p1_3_1_2_resized.pgm\")"
      ]
    },
    {
      "cell_type": "markdown",
      "metadata": {
        "id": "kxZplBMV2P2w"
      },
      "source": [
        "We read the images with Pillow and store them in NumPy array, than we convert them in a SimpleITK object"
      ]
    },
    {
      "cell_type": "code",
      "execution_count": null,
      "metadata": {
        "id": "a3g0NriB4Usd"
      },
      "outputs": [],
      "source": [
        "def read_pgm_as_sitk(image_path):\n",
        "  \"\"\" Read a pgm image as sitk image \"\"\"\n",
        "  np_array = np.asarray(PIL.Image.open(image_path))\n",
        "  sitk_image = sitk.GetImageFromArray(np_array)\n",
        "  return sitk_image"
      ]
    },
    {
      "cell_type": "code",
      "execution_count": null,
      "metadata": {
        "id": "WlAsRjmc46iV"
      },
      "outputs": [],
      "source": [
        "im_1 = read_pgm_as_sitk(os.path.join(dataset_path, \"0008p1_3_1_2_resized.pgm\"))\n",
        "im_1_mask = read_pgm_as_sitk(os.path.join(dataset_path, \"0008p1_3_1_2_mass_mask.pgm\"))"
      ]
    },
    {
      "cell_type": "code",
      "execution_count": null,
      "metadata": {
        "id": "busUk5p85REs"
      },
      "outputs": [],
      "source": [
        "type(im_1)"
      ]
    },
    {
      "cell_type": "markdown",
      "metadata": {
        "id": "jfUGXJnr1Nia"
      },
      "source": [
        "# Calculating the values of active features"
      ]
    },
    {
      "cell_type": "code",
      "execution_count": null,
      "metadata": {
        "id": "Lcdl7qTCXcgT"
      },
      "outputs": [],
      "source": [
        "print('Calculating features')\n",
        "featureDict = extractor.execute(im_1,im_1_mask,label=255)\n",
        "type(featureDict)"
      ]
    },
    {
      "cell_type": "markdown",
      "metadata": {
        "id": "WrYos8Jh3ALh"
      },
      "source": [
        "Features are stored in a dictionary"
      ]
    },
    {
      "cell_type": "code",
      "execution_count": null,
      "metadata": {
        "id": "p3-QyX_G6XSI"
      },
      "outputs": [],
      "source": [
        "featureDict"
      ]
    },
    {
      "cell_type": "markdown",
      "metadata": {
        "id": "uANZMCnYmg3O"
      },
      "source": [
        "# Compute the features for the whole dataset and store them in a file"
      ]
    },
    {
      "cell_type": "markdown",
      "metadata": {
        "id": "_qIsF1Jh32Ub"
      },
      "source": [
        "We will compute the features for the whole dataset, and we will add to the dictionary the case IDs. We will use the [csv](https://docs.python.org/3/library/csv.html#module-csv) module to export the features as a csv file.\n"
      ]
    },
    {
      "cell_type": "code",
      "execution_count": null,
      "metadata": {
        "id": "1AQV856H-3fB"
      },
      "outputs": [],
      "source": [
        "import glob\n",
        "import csv"
      ]
    },
    {
      "cell_type": "code",
      "execution_count": null,
      "metadata": {
        "id": "HG5P6YiX-5jV"
      },
      "outputs": [],
      "source": [
        "images_fnames = glob.glob(os.path.join(dataset_path,'*_resized.pgm'))"
      ]
    },
    {
      "cell_type": "code",
      "execution_count": null,
      "metadata": {
        "id": "G77SQzaM_cpI"
      },
      "outputs": [],
      "source": [
        "extracted_data = []\n",
        "for image_fname in images_fnames:\n",
        "  mask_fname = image_fname.replace('resized', 'mass_mask')\n",
        "  image = read_pgm_as_sitk(image_fname)\n",
        "  mask = read_pgm_as_sitk(mask_fname)\n",
        "  featureVector = extractor.execute(image, mask, label=255)\n",
        "  featureVector['image_ID'] = os.path.basename(image_fname)\n",
        "  featureVector['mask_ID'] = os.path.basename(mask_fname)\n",
        "  extracted_data.append(featureVector)\n"
      ]
    },
    {
      "cell_type": "code",
      "execution_count": null,
      "metadata": {
        "id": "PLvEM0i59qUM"
      },
      "outputs": [],
      "source": [
        "extracted_data"
      ]
    },
    {
      "cell_type": "markdown",
      "metadata": {
        "id": "-DnGAGdK5rr9"
      },
      "source": [
        "The extracted data is a list of dictionary"
      ]
    },
    {
      "cell_type": "code",
      "execution_count": null,
      "metadata": {
        "id": "Lmt4CK11-voP"
      },
      "outputs": [],
      "source": [
        "type(extracted_data)"
      ]
    },
    {
      "cell_type": "markdown",
      "metadata": {
        "id": "BGISGYAd6mxW"
      },
      "source": [
        "We will identify the variables we will store in the .csv file."
      ]
    },
    {
      "cell_type": "code",
      "execution_count": null,
      "metadata": {
        "id": "P74z4VXCqYcx"
      },
      "outputs": [],
      "source": [
        "list(extracted_data[0].keys())"
      ]
    },
    {
      "cell_type": "markdown",
      "metadata": {
        "id": "ARWP1O1e6bq0"
      },
      "source": [
        "We can either store them all:"
      ]
    },
    {
      "cell_type": "code",
      "execution_count": null,
      "metadata": {
        "id": "Q9Sa8zw-6cMU"
      },
      "outputs": [],
      "source": [
        "csv_columns =  list(extracted_data[0].keys())"
      ]
    },
    {
      "cell_type": "markdown",
      "metadata": {
        "id": "KIARtxjA7OvP"
      },
      "source": [
        "or we can select a number of interesting features:"
      ]
    },
    {
      "cell_type": "code",
      "execution_count": null,
      "metadata": {
        "id": "1pudLtCPp8ok"
      },
      "outputs": [],
      "source": [
        "selected_features_name = [x for x in list(extracted_data[0].keys()) if 'firstorder' in x]\n",
        "csv_columns = [ 'image_ID', 'mask_ID' ] + selected_features_name\n",
        "csv_columns"
      ]
    },
    {
      "cell_type": "markdown",
      "metadata": {
        "id": "smA845vy40Gd"
      },
      "source": [
        "We will store the selected features for further analysis in a .csv file"
      ]
    },
    {
      "cell_type": "code",
      "execution_count": null,
      "metadata": {
        "id": "mzR_Fdx2X0DX"
      },
      "outputs": [],
      "source": [
        "csv_file = \"extracted_features.csv\"\n",
        "\n",
        "with open(csv_file, 'w') as csvfile:\n",
        "    writer = csv.DictWriter(csvfile, fieldnames=csv_columns, extrasaction='ignore' )\n",
        "    writer.writeheader()\n",
        "    writer.writerows(extracted_data)"
      ]
    },
    {
      "cell_type": "code",
      "execution_count": null,
      "metadata": {
        "id": "--1lnhO-9OjQ"
      },
      "outputs": [],
      "source": [
        "!ls"
      ]
    },
    {
      "cell_type": "code",
      "execution_count": null,
      "metadata": {
        "id": "nBXRkMTX91oH"
      },
      "outputs": [],
      "source": [
        "!cat extracted_features.csv"
      ]
    },
    {
      "cell_type": "markdown",
      "metadata": {
        "id": "DlPy80wt8FO7"
      },
      "source": [
        "We can copy the output file on our gdrive folder, as the /content/ forlder content will be reset after the session"
      ]
    },
    {
      "cell_type": "code",
      "execution_count": null,
      "metadata": {
        "id": "mOA-BHVv9-ka"
      },
      "outputs": [],
      "source": [
        "!cp extracted_features.csv /content/gdrive/My\\ Drive/."
      ]
    },
    {
      "cell_type": "code",
      "source": [],
      "metadata": {
        "id": "3-jPXZan1vVM"
      },
      "execution_count": null,
      "outputs": []
    }
  ],
  "metadata": {
    "colab": {
      "provenance": []
    },
    "kernelspec": {
      "display_name": "Python 3",
      "language": "python",
      "name": "python3"
    },
    "language_info": {
      "codemirror_mode": {
        "name": "ipython",
        "version": 3
      },
      "file_extension": ".py",
      "mimetype": "text/x-python",
      "name": "python",
      "nbconvert_exporter": "python",
      "pygments_lexer": "ipython3",
      "version": "3.7.6"
    }
  },
  "nbformat": 4,
  "nbformat_minor": 0
}